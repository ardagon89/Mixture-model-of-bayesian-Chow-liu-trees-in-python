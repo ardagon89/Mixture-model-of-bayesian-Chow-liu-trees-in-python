{
 "cells": [
  {
   "cell_type": "code",
   "execution_count": 39,
   "metadata": {},
   "outputs": [
    {
     "name": "stdout",
     "output_type": "stream",
     "text": [
      "1.0\n",
      "(16181, 17)\n",
      "-84.5070475595422\n",
      "-22227.175018301103\n",
      "True\n"
     ]
    },
    {
     "data": {
      "image/png": "[encoded data removed]",
      "text/plain": [
       "<Figure size 432x288 with 1 Axes>"
      ]
     },
     "metadata": {},
     "output_type": "display_data"
    }
   ],
   "source": [
    "import numpy as np\n",
    "import copy\n",
    "import networkx as nx\n",
    "\n",
    "def loadfile(filename1, filename2=None):\n",
    "    ds1 = np.loadtxt(\"small-10-datasets/nltcs.ts.data\", delimiter=\",\", dtype=int)\n",
    "    if filename2:\n",
    "        ds2 = np.loadtxt(\"small-10-datasets/nltcs.valid.data\", delimiter=\",\", dtype=int)\n",
    "        ds = np.vstack((ds1, ds2))\n",
    "    else:\n",
    "        ds = ds1\n",
    "    return ds, ds.shape[0], ds.shape[1]\n",
    "\n",
    "def prob_matrix(ds, m, n, k=1):\n",
    "    prob_xy = np.zeros((n, n, 4))\n",
    "    l = 10\n",
    "    for i in range(n):\n",
    "        subds = ds[ds[:, i] == 0]\n",
    "        for j in range(n):\n",
    "            if prob_xy[i, j, 0] == 0:\n",
    "                prob_xy[i, j, 0] = (np.sum(subds[subds[:, j] == 0][:, n-1+k]))\n",
    "            if prob_xy[j, i, 0] == 0:\n",
    "                prob_xy[j, i, 0] = prob_xy[i, j, 0]\n",
    "            if prob_xy[i, j, 1] == 0:\n",
    "                prob_xy[i, j, 1] = (np.sum(subds[subds[:, j] == 1][:, n-1+k]))\n",
    "            if prob_xy[j, i, 2] == 0:\n",
    "                prob_xy[j, i, 2] = prob_xy[i, j, 1]\n",
    "            \n",
    "        subds = ds[ds[:, i] == 1]\n",
    "        for j in range(n):\n",
    "            if prob_xy[i, j, 2] == 0:\n",
    "                prob_xy[i, j, 2] = (np.sum(subds[subds[:, j] == 0][:, n-1+k]))\n",
    "            if prob_xy[j, i, 1] == 0:\n",
    "                prob_xy[j, i, 1] = prob_xy[i, j, 2]\n",
    "            if prob_xy[i, j, 3] == 0:\n",
    "                prob_xy[i, j, 3] = (np.sum(subds[subds[:, j] == 1][:, n-1+k]))\n",
    "            if prob_xy[j, i, 3] == 0:\n",
    "                prob_xy[j, i, 3] = prob_xy[i, j, 3]\n",
    "    l = np.sum(prob_xy)/(m*n*n)\n",
    "    return (prob_xy+l)/(m+4*l)\n",
    "\n",
    "def edge_weights(prob_xy, n):\n",
    "    edge_wts = np.zeros((n, n))\n",
    "    for i in range(n):\n",
    "        for j in range(n):\n",
    "            if i < j:\n",
    "                edge_wts[i, j] = prob_xy[i, j, 0]*np.log(prob_xy[i, j, 0]/(prob_xy[i, i, 0]*prob_xy[j, j, 0])) \\\n",
    "                + prob_xy[i, j, 1]*np.log(prob_xy[i, j, 1]/(prob_xy[i, i, 0]*prob_xy[j, j, 3])) \\\n",
    "                + prob_xy[i, j, 2]*np.log(prob_xy[i, j, 2]/(prob_xy[i, i, 3]*prob_xy[j, j, 0])) \\\n",
    "                + prob_xy[i, j, 3]*np.log(prob_xy[i, j, 3]/(prob_xy[i, i, 3]*prob_xy[j, j, 3]))\n",
    "    return edge_wts\n",
    "\n",
    "def draw_tree(edge_wts, prnt = False):\n",
    "    edge_wts_cp = copy.deepcopy(edge_wts)\n",
    "    edges = [np.unravel_index(np.argmax(edge_wts_cp), edge_wts_cp.shape)]\n",
    "    visited = [[edges[-1][0],edges[-1][1]]]\n",
    "    edge_wts_cp[edges[-1]] = 0\n",
    "    while(len(edges) < n-1):\n",
    "        i = j = -1\n",
    "        edge = np.unravel_index(np.argmax(edge_wts_cp), edge_wts_cp.shape)\n",
    "        for bag in range(len(visited)):\n",
    "            if edge[0] in visited[bag]:\n",
    "                i = bag\n",
    "            if edge[1] in visited[bag]:\n",
    "                j = bag\n",
    "        if i == -1 and j != -1:\n",
    "            #print(\"Visited\", visited)\n",
    "            #print(\"Added\", edge)\n",
    "            edges.append(edge)\n",
    "            visited[j].append(edge[0])\n",
    "        elif i != -1 and j == -1:\n",
    "            #print(\"Visited\", visited)\n",
    "            #print(\"Added\", edge)\n",
    "            edges.append(edge)\n",
    "            visited[i].append(edge[1])\n",
    "        elif i == -1 and j == -1:\n",
    "            #print(\"Visited\", visited)\n",
    "            #print(\"Added\", edge)\n",
    "            edges.append(edge)\n",
    "            visited.append([edge[0], edge[1]])\n",
    "        elif i != -1 and j != -1 and i != j:\n",
    "            #print(\"Visited\", visited)\n",
    "            #print(\"Added\", edge)\n",
    "            edges.append(edge)\n",
    "            visited[i] += visited[j]\n",
    "            visited.remove(visited[j])\n",
    "        elif i == j != -1:\n",
    "            pass\n",
    "            #print(\"Discarded\", edge)\n",
    "        else:\n",
    "            #pass\n",
    "            print(\"Discarded in else\", edge)\n",
    "        edge_wts_cp[edge] = 0\n",
    "    #print(edges)\n",
    "    #print(visited)\n",
    "    \n",
    "    if prnt:\n",
    "        G = nx.Graph()\n",
    "        G.add_nodes_from(visited[0])\n",
    "        G.add_edges_from(edges)\n",
    "        nx.draw_networkx(G, with_labels=True, arrows=True)\n",
    "    \n",
    "    return edges\n",
    "\n",
    "def count_matrix(ds, tree, cols):\n",
    "    count_xy = np.zeros((len(tree), cols))\n",
    "    for idx, node in enumerate(tree):\n",
    "        i, j = node\n",
    "        count_xy[idx] = [ds[(ds[:, i]==0) & (ds[:, j]==0)].shape[0], ds[(ds[:, i]==0) & (ds[:, j]==1)].shape[0], ds[(ds[:, i]==1) & (ds[:, j]==0)].shape[0], ds[(ds[:, i]==1) & (ds[:, j]==1)].shape[0]]\n",
    "    #print(count_xy)\n",
    "    return count_xy\n",
    "\n",
    "if __name__ == \"__main__\":\n",
    "    ds, m, n = loadfile(\"small-10-datasets/nltcs.ts.data\")  \n",
    "    k = 1\n",
    "    ds = np.hstack((ds, np.ones((m, k))))\n",
    "    prob_xy = prob_matrix(ds, m, n)\n",
    "    edge_wts = edge_weights(prob_xy, n)\n",
    "    \n",
    "    print(ds.shape)\n",
    "    \n",
    "    tree = draw_tree(edge_wts, True)\n",
    "    \n",
    "    #tree = [(8,6), (6,1), (6,7), (6,2), (2,0), (7,9), (7,5), (5,3), (8,12), (12,15), (12,14), (14,13), (13,4), (14,10), (10,11)]\n",
    "    tree = [(tree[0][0], tree[0][0])] + tree\n",
    "\n",
    "    cond_prob = np.zeros((len(tree), prob_xy.shape[2]))\n",
    "    for idx, node in enumerate(tree):\n",
    "        if node[0] == node[1]:\n",
    "            cond_prob[idx] = np.log(prob_xy[node[0], node[1],:])\n",
    "        else:\n",
    "            cond_prob[idx] = np.log(np.hstack(((prob_xy[node[0], node[1],:2]/prob_xy[node[0], node[0], 0]),(prob_xy[node[0], node[1],2:]/prob_xy[node[0], node[0], 3]))))\n",
    "    print(np.sum(cond_prob))\n",
    "    ts = np.loadtxt(\"small-10-datasets/nltcs.test.data\", delimiter=\",\", dtype=int)\n",
    "\n",
    "    count_xy = count_matrix(ts, tree, prob_xy.shape[2])\n",
    "\n",
    "    print(np.sum(count_xy*cond_prob))\n",
    "\n",
    "    print(edge_wts[np.unravel_index(np.argmax(edge_wts), edge_wts.shape)] == edge_wts.max())"
   ]
  },
  {
   "cell_type": "code",
   "execution_count": 6,
   "metadata": {},
   "outputs": [
    {
     "data": {
      "text/plain": [
       "-22227.175018301103"
      ]
     },
     "execution_count": 6,
     "metadata": {},
     "output_type": "execute_result"
    }
   ],
   "source": [
    "-83.08343417442772\n",
    "-21866.90682238832\n",
    "-22227.175018301103"
   ]
  },
  {
   "cell_type": "code",
   "execution_count": 13,
   "metadata": {},
   "outputs": [
    {
     "name": "stdout",
     "output_type": "stream",
     "text": [
      "(16181, 16)\n",
      "(16181, 2)\n",
      "[[0. 0. 0. ... 0. 0. 1.]\n",
      " [0. 0. 0. ... 0. 1. 1.]\n",
      " [0. 0. 0. ... 0. 0. 1.]\n",
      " ...\n",
      " [0. 0. 0. ... 0. 0. 1.]\n",
      " [0. 0. 0. ... 0. 0. 1.]\n",
      " [0. 0. 1. ... 0. 0. 1.]]\n"
     ]
    }
   ],
   "source": [
    "print(ds.shape)\n",
    "print(np.ones((m, 2)).shape)\n",
    "print(np.hstack((ds, np.ones((m, 1)))))"
   ]
  },
  {
   "cell_type": "code",
   "execution_count": null,
   "metadata": {},
   "outputs": [],
   "source": []
  }
 ],
 "metadata": {
  "kernelspec": {
   "display_name": "Python 3",
   "language": "python",
   "name": "python3"
  },
  "language_info": {
   "codemirror_mode": {
    "name": "ipython",
    "version": 3
   },
   "file_extension": ".py",
   "mimetype": "text/x-python",
   "name": "python",
   "nbconvert_exporter": "python",
   "pygments_lexer": "ipython3",
   "version": "3.7.3"
  }
 },
 "nbformat": 4,
 "nbformat_minor": 2
}
